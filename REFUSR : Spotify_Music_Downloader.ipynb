{
  "nbformat": 4,
  "nbformat_minor": 0,
  "metadata": {
    "colab": {
      "provenance": []
    },
    "kernelspec": {
      "name": "python3",
      "display_name": "Python 3"
    },
    "language_info": {
      "name": "python"
    }
  },
  "cells": [
    {
      "cell_type": "code",
      "source": [
        "#@title <b>Time Out Preventer (Advanced) </b></strong>\n",
        "%%capture\n",
        "AUTO_RECONNECT = True #@param {type:\"boolean\"}\n",
        "#@markdown **Run this code to prevent Google Colab from Timeout**\n",
        "from os import makedirs\n",
        "makedirs(\"/root/.config/rclone\", exist_ok = True)\n",
        "if AUTO_RECONNECT:\n",
        "  import IPython\n",
        "  from google.colab import output\n",
        "\n",
        "  display(IPython.display.Javascript('''\n",
        "  function ClickConnect(){\n",
        "    btn = document.querySelector(\"colab-connect-button\")\n",
        "    if (btn != null){\n",
        "      console.log(\"Click colab-connect-button\");\n",
        "      btn.click()\n",
        "      }\n",
        "\n",
        "    btn = document.getElementById('ok')\n",
        "    if (btn != null){\n",
        "      console.log(\"Click reconnect\");\n",
        "      btn.click()\n",
        "      }\n",
        "    }\n",
        "\n",
        "  setInterval(ClickConnect,60000)\n",
        "  '''))"
      ],
      "metadata": {
        "cellView": "form",
        "id": "ZfxwplLcEvhZ"
      },
      "execution_count": 1,
      "outputs": []
    },
    {
      "cell_type": "code",
      "source": [
        "#@title <b> Install Requirment </b></strong>\n",
        "from IPython.display import clear_output\n",
        "print(f'\\033[92mInstalling Requirments\\033[0m\\n')\n",
        "!apt-get upgrade\n",
        "!pip install spotdl==v4.2.1\n",
        "from google.colab import drive\n",
        "drive.mount('/gdrive')\n",
        "clear_output()"
      ],
      "metadata": {
        "cellView": "form",
        "id": "C0WQenAKoe_7"
      },
      "execution_count": 2,
      "outputs": []
    },
    {
      "cell_type": "code",
      "source": [
        "#@title <b> Download song </b></strong>\n",
        "\n",
        "#@markdown If you repeatedly download the same song from the same URL, you may encounter some errors. To avoid this problem, you should delete the old files before attempting to download the same song again.\n",
        "spotify_url = \"https://open.spotify.com/track/4R9IOcKCN8qfF62TUEvVj1?si=f437a41a7ee24cb0\" #@param {type:\"string\"}\n",
        "src_aud= \"youtube\" #@param [\"youtube\",\"youtube-music\",\"slider-kz\"]\n",
        "format = \"m4a\" #@param [\"flac\",\"m4a\",\"ogg\",\"mp3\",\"opus\",\"wav\"]\n",
        "birate = \"320k\" #@param [\"auto\",\"disable\",\"8k\",\"16k\",\"24k\",\"32k\",\"40k\",\"48k\",\"64k\",\"80k\",\"96k\",\"112k\",\"128k\",\"160k\",\"192k\",\"224k\",\"256k\",\"320k\"]\n",
        "generate_lrc = False #@param {type:\"boolean\"}\n",
        "lyrics = \"musixmatch\" #@param [\"genius\",\"musixmatch\",\"azlyrics\",\"synced\"]\n",
        "if generate_lrc == True:\n",
        "  print(f'\\033[92mDownloading song from spotify\\033[0m\\n')\n",
        "  !cd /gdrive/MyDrive/Downloads\n",
        "  !spotdl {spotify_url} --audio {src_aud} --format {format} --lyrics {lyrics} --bitrate {birate} --generate-lrc --output \"/gdrive/MyDrive/Downloads\"\n",
        "  print('\\n\\033[93mREAD:\\033[0m \\033[1mDownloaded song is located in your gdrive.\\033[0m')\n",
        "else:\n",
        "  print(f'\\033[92mDownloading song from spotify\\033[0m\\n')\n",
        "  !cd /gdrive/MyDrive/Downloads\n",
        "  !spotdl {spotify_url} --audio {src_aud} --format {format} --lyrics {lyrics} --bitrate {birate} --output \"/gdrive/MyDrive/Downloads\"\n",
        "  print('\\n\\033[93mREAD:\\033[0m \\033[1mDownloaded song is located in your gdrive.\\033[0m')\n"
      ],
      "metadata": {
        "id": "bCKgejuthbOm",
        "outputId": "bff5d2af-c791-494e-a7af-2e547bbf9b69",
        "colab": {
          "base_uri": "https://localhost:8080/"
        }
      },
      "execution_count": 7,
      "outputs": [
        {
          "output_type": "stream",
          "name": "stdout",
          "text": [
            "\u001b[92mDownloading song from spotify\u001b[0m\n",
            "\n",
            "\u001b[2K\u001b[32mProcessing query: https://open.spotify.com/track/4R9IOcKCN8qfF62TUEvVj1?si=f437a41a7ee24cb0\u001b[0m         \n",
            "\u001b[2KUnexpected renderer encountered.\n",
            "\u001b[2KRenderer name: dict_keys(['reelShelfRenderer'])\n",
            "\u001b[2KSearch term: fejo - aayiram aura\n",
            "\u001b[2KPlease open an issue at https://github.com/pytube/pytube/issues and provide this log output.\n",
            "\u001b[2KUnexpected renderer encountered.\n",
            "\u001b[2KRenderer name: dict_keys(['lockupViewModel'])\n",
            "\u001b[2KSearch term: fejo - aayiram aura\n",
            "\u001b[2KPlease open an issue at https://github.com/pytube/pytube/issues and provide this log output.\n",
            "\u001b[2KUnexpected renderer encountered.\n",
            "\u001b[2KRenderer name: dict_keys(['reelShelfRenderer'])\n",
            "\u001b[2KSearch term: fejo - aayiram aura\n",
            "\u001b[2KPlease open an issue at https://github.com/pytube/pytube/issues and provide this log output.\n",
            "\u001b[2KUnexpected renderer encountered.\n",
            "\u001b[2KRenderer name: dict_keys(['lockupViewModel'])\n",
            "\u001b[2KSearch term: fejo - aayiram aura\n",
            "\u001b[2KPlease open an issue at https://github.com/pytube/pytube/issues and provide this log output.\n",
            "\u001b[2K\u001b[31mAudioProviderError: YT-DLP download error - \u001b[0m\u001b[4;94mhttps://youtube.com/watch?\u001b[0m\u001b[4;94mv\u001b[0m\u001b[4;94m=\u001b[0m\u001b[4;94ma2BueQplwGw\u001b[0m                 \n",
            "\u001b[2K\n",
            "\n",
            "\u001b[93mREAD:\u001b[0m \u001b[1mDownloaded song is located in your gdrive.\u001b[0m\n"
          ]
        }
      ]
    }
  ]
}